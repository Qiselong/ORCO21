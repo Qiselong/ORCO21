{
 "cells": [
  {
   "cell_type": "markdown",
   "metadata": {},
   "source": [
    "## Project: Sudoku solving using SAT\n",
    "\n",
    "By (..)\n",
    "\n",
    "We use Z3 for Python to do the solving.\n",
    "\n",
    "Extension chosed: do a sudoku generator."
   ]
  },
  {
   "cell_type": "markdown",
   "metadata": {},
   "source": [
    "useful: \n",
    "files formats: https://www.sudocue.net/fileformats.php"
   ]
  },
  {
   "cell_type": "markdown",
   "metadata": {},
   "source": [
    "### Model\n"
   ]
  },
  {
   "cell_type": "code",
   "execution_count": 3,
   "metadata": {},
   "outputs": [],
   "source": [
    "from z3 import *"
   ]
  },
  {
   "cell_type": "markdown",
   "metadata": {},
   "source": [
    "#### Variables\n",
    "We use boolean variables as follow:\n",
    "$$X_{k,i,j} = 1 \\Leftrightarrow \\text{the number at position (i,j) in the grid is a k.}$$\n",
    "with $k \\in [9], (i,j) \\in [9]^2$"
   ]
  },
  {
   "cell_type": "code",
   "execution_count": 8,
   "metadata": {},
   "outputs": [],
   "source": [
    "# variables:\n",
    "\n",
    "#booleans\n",
    "s = Solver()\n",
    "X = [ [ [Int(f\"X_{(k,i,j)}\") for j in range(9)] for i in range(9)] for k in range(9) ]\n"
   ]
  },
  {
   "cell_type": "markdown",
   "metadata": {},
   "source": [
    "#### Constraints\n",
    "\n",
    "We have to encode the following constraints:                    <br>\n",
    "    1. line constraints  ($\\forall i,k, sum_j X_{k,i,j} = 1 $) (Ok!) <br>\n",
    "    2. collumns constraints ($\\forall j,k, sum_i X_{k,i,j} = 1$)   <br>\n",
    "    3. unicity contraints ($\\forall i,j, sum_k X_{k,i,j} = 1$)  (Ok!)                                       <br>\n",
    "    4. square constraints <br>\n"
   ]
  },
  {
   "cell_type": "code",
   "execution_count": 13,
   "metadata": {},
   "outputs": [],
   "source": [
    "unicity = [X[0][i][j] + X[1][i][j] + X[2][i][j] + X[3][i][j] + X[4][i][j] + X[5][i][j] + X[6][i][j] + X[7][i][j] + X[8][i][j] == 1 \n",
    "        for i in range(9) for j in range(9) ]"
   ]
  },
  {
   "cell_type": "code",
   "execution_count": 19,
   "metadata": {},
   "outputs": [],
   "source": [
    "line = [X[k][i][0] +X[k][i][1] +X[k][i][2] +X[k][i][3] +X[k][i][4] +X[k][i][5] +X[k][i][6] +X[k][i][7] +X[k][i][8] ==1\n",
    "        for k in range(9) for i in range(9)]"
   ]
  },
  {
   "cell_type": "code",
   "execution_count": 18,
   "metadata": {},
   "outputs": [],
   "source": [
    "collumn = [ X[k][0][j] +X[k][1][j] +X[k][2][j] +X[k][3][j] +X[k][4][j] +X[k][5][j] +X[k][6][j] +X[k][7][j] +X[k][8][j] ==1\n",
    "            for k in range(9) for j in range(9)]"
   ]
  },
  {
   "cell_type": "code",
   "execution_count": 36,
   "metadata": {},
   "outputs": [],
   "source": [
    "square = [ X[k][i0][j0] + X[k][i0+1][j0] + X[k][i0+2][j0] + X[k][i0][j0+1] + X[k][i0+1][j0+1] + X[k][i0+2][j0+1] + X[k][i0][j0+2] + X[k][i0+1][j0+2] +X[k][i0+2][j0+2] ==1\n",
    "     for k in range(9) for i0 in [0,3,6] for j0 in [0,3,6]]"
   ]
  },
  {
   "cell_type": "markdown",
   "metadata": {},
   "source": [
    "#### Additional constraints:\n",
    "Elements of X must be 0 or 1. (integrity) <br>\n",
    "Some values of X are predefined (problem_solver)"
   ]
  },
  {
   "cell_type": "code",
   "execution_count": 41,
   "metadata": {},
   "outputs": [],
   "source": [
    "integrity = [And( 0 <= X[k][i][j] , 1 >= X[k][i][j]) for k in range(9) for j in range(9) for i in range(9)]"
   ]
  },
  {
   "cell_type": "markdown",
   "metadata": {},
   "source": [
    "### Test"
   ]
  },
  {
   "cell_type": "code",
   "execution_count": 42,
   "metadata": {},
   "outputs": [
    {
     "name": "stdout",
     "output_type": "stream",
     "text": [
      "[X_(7, 8, 3) = 0,\n",
      " X_(7, 1, 7) = 0,\n",
      " X_(3, 8, 2) = 0,\n",
      " X_(1, 6, 2) = 0,\n",
      " X_(8, 8, 3) = 0,\n",
      " X_(7, 1, 8) = 0,\n",
      " X_(4, 2, 2) = 0,\n",
      " X_(1, 7, 2) = 1,\n",
      " X_(1, 7, 4) = 0,\n",
      " X_(8, 1, 4) = 0,\n",
      " X_(4, 2, 3) = 0,\n",
      " X_(1, 8, 2) = 0,\n",
      " X_(2, 7, 4) = 1,\n",
      " X_(8, 1, 5) = 0,\n",
      " X_(4, 2, 4) = 0,\n",
      " X_(1, 4, 3) = 0,\n",
      " X_(3, 7, 4) = 0,\n",
      " X_(8, 1, 7) = 0,\n",
      " X_(4, 2, 5) = 1,\n",
      " X_(2, 4, 3) = 0,\n",
      " X_(4, 7, 4) = 0,\n",
      " X_(8, 1, 8) = 1,\n",
      " X_(4, 2, 6) = 0,\n",
      " X_(3, 4, 3) = 0,\n",
      " X_(5, 7, 4) = 0,\n",
      " X_(1, 3, 4) = 0,\n",
      " X_(4, 2, 7) = 0,\n",
      " X_(4, 4, 3) = 0,\n",
      " X_(6, 7, 4) = 0,\n",
      " X_(2, 3, 4) = 0,\n",
      " X_(4, 2, 8) = 0,\n",
      " X_(5, 4, 3) = 0,\n",
      " X_(7, 7, 4) = 0,\n",
      " X_(3, 3, 4) = 0,\n",
      " X_(4, 2, 1) = 0,\n",
      " X_(6, 4, 3) = 0,\n",
      " X_(8, 7, 4) = 0,\n",
      " X_(4, 3, 4) = 0,\n",
      " X_(4, 3, 1) = 0,\n",
      " X_(7, 4, 3) = 0,\n",
      " X_(1, 8, 4) = 0,\n",
      " X_(5, 3, 4) = 1,\n",
      " X_(4, 4, 1) = 0,\n",
      " X_(8, 4, 3) = 1,\n",
      " X_(2, 8, 4) = 0,\n",
      " X_(6, 3, 4) = 0,\n",
      " X_(4, 5, 1) = 0,\n",
      " X_(1, 5, 3) = 0,\n",
      " X_(3, 8, 4) = 0,\n",
      " X_(7, 3, 4) = 0,\n",
      " X_(4, 6, 1) = 0,\n",
      " X_(2, 5, 3) = 0,\n",
      " X_(4, 8, 4) = 0,\n",
      " X_(8, 3, 4) = 0,\n",
      " X_(4, 7, 1) = 0,\n",
      " X_(3, 5, 3) = 1,\n",
      " X_(5, 8, 4) = 0,\n",
      " X_(1, 3, 5) = 0,\n",
      " X_(4, 8, 1) = 0,\n",
      " X_(4, 5, 3) = 0,\n",
      " X_(6, 8, 4) = 0,\n",
      " X_(2, 3, 5) = 0,\n",
      " X_(4, 3, 2) = 1,\n",
      " X_(5, 5, 3) = 0,\n",
      " X_(7, 8, 4) = 0,\n",
      " X_(3, 3, 5) = 0,\n",
      " X_(4, 4, 2) = 0,\n",
      " X_(6, 5, 3) = 0,\n",
      " X_(8, 8, 4) = 0,\n",
      " X_(4, 3, 5) = 0,\n",
      " X_(4, 5, 2) = 0,\n",
      " X_(7, 5, 3) = 0,\n",
      " X_(1, 7, 5) = 0,\n",
      " X_(5, 3, 5) = 0,\n",
      " X_(4, 6, 2) = 0,\n",
      " X_(8, 5, 3) = 0,\n",
      " X_(2, 7, 5) = 0,\n",
      " X_(6, 3, 5) = 0,\n",
      " X_(4, 7, 2) = 0,\n",
      " X_(1, 4, 4) = 1,\n",
      " X_(3, 7, 5) = 0,\n",
      " X_(7, 3, 5) = 1,\n",
      " X_(4, 8, 2) = 0,\n",
      " X_(2, 4, 4) = 0,\n",
      " X_(4, 7, 5) = 0,\n",
      " X_(8, 3, 5) = 0,\n",
      " X_(5, 2, 2) = 0,\n",
      " X_(3, 4, 4) = 0,\n",
      " X_(5, 7, 5) = 0,\n",
      " X_(1, 6, 4) = 0,\n",
      " X_(5, 2, 3) = 0,\n",
      " X_(4, 4, 4) = 0,\n",
      " X_(6, 7, 5) = 0,\n",
      " X_(2, 6, 4) = 0,\n",
      " X_(5, 2, 4) = 0,\n",
      " X_(5, 4, 4) = 0,\n",
      " X_(7, 7, 5) = 0,\n",
      " X_(3, 6, 4) = 0,\n",
      " X_(5, 2, 5) = 0,\n",
      " X_(6, 4, 4) = 0,\n",
      " X_(8, 7, 5) = 1,\n",
      " X_(4, 6, 4) = 0,\n",
      " X_(5, 2, 6) = 0,\n",
      " X_(7, 4, 4) = 0,\n",
      " X_(1, 8, 5) = 1,\n",
      " X_(5, 6, 4) = 0,\n",
      " X_(5, 2, 7) = 0,\n",
      " X_(8, 4, 4) = 0,\n",
      " X_(2, 8, 5) = 0,\n",
      " X_(6, 6, 4) = 0,\n",
      " X_(5, 2, 8) = 1,\n",
      " X_(1, 5, 4) = 0,\n",
      " X_(3, 8, 5) = 0,\n",
      " X_(7, 6, 4) = 1,\n",
      " X_(5, 2, 1) = 0,\n",
      " X_(2, 5, 4) = 0,\n",
      " X_(4, 8, 5) = 0,\n",
      " X_(8, 6, 4) = 0,\n",
      " X_(5, 3, 1) = 0,\n",
      " X_(3, 5, 4) = 0,\n",
      " X_(5, 8, 5) = 0,\n",
      " X_(1, 6, 5) = 0,\n",
      " X_(5, 4, 1) = 0,\n",
      " X_(4, 5, 4) = 1,\n",
      " X_(6, 8, 5) = 0,\n",
      " X_(2, 6, 5) = 0,\n",
      " X_(5, 5, 1) = 0,\n",
      " X_(5, 5, 4) = 0,\n",
      " X_(7, 8, 5) = 0,\n",
      " ...]\n"
     ]
    }
   ],
   "source": [
    "solve(line + collumn + square + unicity + integrity)"
   ]
  }
 ],
 "metadata": {
  "interpreter": {
   "hash": "e7370f93d1d0cde622a1f8e1c04877d8463912d04d973331ad4851f04de6915a"
  },
  "kernelspec": {
   "display_name": "Python 3.8.10 64-bit",
   "language": "python",
   "name": "python3"
  },
  "language_info": {
   "codemirror_mode": {
    "name": "ipython",
    "version": 3
   },
   "file_extension": ".py",
   "mimetype": "text/x-python",
   "name": "python",
   "nbconvert_exporter": "python",
   "pygments_lexer": "ipython3",
   "version": "3.8.10"
  },
  "orig_nbformat": 4
 },
 "nbformat": 4,
 "nbformat_minor": 2
}
