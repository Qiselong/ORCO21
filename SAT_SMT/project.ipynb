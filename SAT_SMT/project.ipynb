{
 "cells": [
  {
   "cell_type": "markdown",
   "metadata": {},
   "source": [
    "## Project: Sudoku solving using SAT\n",
    "\n",
    "By (..)\n",
    "\n",
    "We use Z3 for Python to do the solving."
   ]
  },
  {
   "cell_type": "markdown",
   "metadata": {},
   "source": [
    "useful: \n",
    "files formats: https://www.sudocue.net/fileformats.php"
   ]
  },
  {
   "cell_type": "markdown",
   "metadata": {},
   "source": [
    "### Model\n"
   ]
  },
  {
   "cell_type": "code",
   "execution_count": 3,
   "metadata": {},
   "outputs": [],
   "source": [
    "from z3 import *"
   ]
  },
  {
   "cell_type": "markdown",
   "metadata": {},
   "source": [
    "#### Variables\n",
    "We use boolean variables as follow:\n",
    "$$X_{k,i,j} = 1 \\Leftrightarrow \\text{the number at position (i,j) in the grid is a k.}$$\n",
    "with $k \\in [9], (i,j) \\in [9]^2$"
   ]
  },
  {
   "cell_type": "code",
   "execution_count": 8,
   "metadata": {},
   "outputs": [],
   "source": [
    "# variables:\n",
    "\n",
    "#booleans\n",
    "s = Solver()\n",
    "X = [ [ [Int(f\"X_{(k,i,j)}\") for j in range(9)] for i in range(9)] for k in range(9) ]\n"
   ]
  },
  {
   "cell_type": "markdown",
   "metadata": {},
   "source": [
    "#### Constraints\n",
    "\n",
    "We have to encode the following constraints:                    <br>\n",
    "    1. line constraints  ($\\forall i,k, sum_j X_{k,i,j} = 1 $) (Ok!) <br>\n",
    "    2. collumns constraints ($\\forall j,k, sum_i X_{k,i,j} = 1$)   <br>\n",
    "    3. square constraints                                       <br>\n",
    "    4. unicity contraints ($\\forall i,j, sum_k X_{k,i,j} = 1$)  (Ok!) <br>\n"
   ]
  },
  {
   "cell_type": "code",
   "execution_count": 13,
   "metadata": {},
   "outputs": [],
   "source": [
    "unicity = [X[0][i][j] + X[1][i][j] + X[2][i][j] + X[3][i][j] + X[4][i][j] + X[5][i][j] + X[6][i][j] + X[7][i][j] + X[8][i][j] == 1 \n",
    "        for i in range(9) for j in range(9) ]"
   ]
  },
  {
   "cell_type": "code",
   "execution_count": 19,
   "metadata": {},
   "outputs": [],
   "source": [
    "line = [X[k][i][0] +X[k][i][1] +X[k][i][2] +X[k][i][3] +X[k][i][4] +X[k][i][5] +X[k][i][6] +X[k][i][7] +X[k][i][8] ==1\n",
    "        for k in range(9) for i in range(9)]"
   ]
  },
  {
   "cell_type": "code",
   "execution_count": 18,
   "metadata": {},
   "outputs": [],
   "source": [
    "collumn = [ X[k][0][j] +X[k][1][j] +X[k][2][j] +X[k][3][j] +X[k][4][j] +X[k][5][j] +X[k][6][j] +X[k][7][j] +X[k][8][j] ==1\n",
    "            for k in range(9) for j in range(9)]"
   ]
  },
  {
   "cell_type": "markdown",
   "metadata": {},
   "source": [
    "##### About Square constraints:\n",
    "Defining the constraints on the squares is less trivial.\n",
    "We will define Square_ij a list of two vectors of size 3 that gives the indexes we want. \n",
    "For instance, Square_11 = [ [0,1,2] , [0,1,2] ; Square_32 = [ [6,7,8] , [3,4,5]].\n",
    "\n"
   ]
  }
 ],
 "metadata": {
  "interpreter": {
   "hash": "e7370f93d1d0cde622a1f8e1c04877d8463912d04d973331ad4851f04de6915a"
  },
  "kernelspec": {
   "display_name": "Python 3.8.10 64-bit",
   "language": "python",
   "name": "python3"
  },
  "language_info": {
   "codemirror_mode": {
    "name": "ipython",
    "version": 3
   },
   "file_extension": ".py",
   "mimetype": "text/x-python",
   "name": "python",
   "nbconvert_exporter": "python",
   "pygments_lexer": "ipython3",
   "version": "3.8.10"
  },
  "orig_nbformat": 4
 },
 "nbformat": 4,
 "nbformat_minor": 2
}
