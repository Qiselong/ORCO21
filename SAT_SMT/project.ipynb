{
 "cells": [
  {
   "cell_type": "markdown",
   "metadata": {},
   "source": [
    "## Project: Sudoku solving using SAT\n",
    "\n",
    "By (..)\n",
    "\n",
    "We use Z3 for Python to do the solving."
   ]
  },
  {
   "cell_type": "markdown",
   "metadata": {},
   "source": [
    "useful: \n",
    "files formats: https://www.sudocue.net/fileformats.php"
   ]
  },
  {
   "cell_type": "markdown",
   "metadata": {},
   "source": [
    "### Model\n"
   ]
  },
  {
   "cell_type": "code",
   "execution_count": 3,
   "metadata": {},
   "outputs": [],
   "source": [
    "from z3 import *"
   ]
  },
  {
   "cell_type": "markdown",
   "metadata": {},
   "source": [
    "#### Variables\n",
    "We use boolean variables as follow:\n",
    "$$X_{k,i,j} = 1 \\Leftrightarrow \\text{the number at position (i,j) in the grid is a k.}$$\n",
    "with $k \\in [9], (i,j) \\in [9]^2$"
   ]
  },
  {
   "cell_type": "code",
   "execution_count": 8,
   "metadata": {},
   "outputs": [],
   "source": [
    "# variables:\n",
    "\n",
    "#booleans\n",
    "s = Solver()\n",
    "X = [ [ [Int(f\"X_{(k,i,j)}\") for j in range(9)] for i in range(9)] for k in range(9) ]\n"
   ]
  },
  {
   "cell_type": "markdown",
   "metadata": {},
   "source": [
    "#### Constraints\n",
    "\n",
    "We have to encode the following constraints:                    <br>\n",
    "    1. line constraints  ($\\forall i,k, sum_j X_{k,i,j} = 1 $) (Ok!) <br>\n",
    "    2. collumns constraints ($\\forall j,k, sum_i X_{k,i,j} = 1$)   <br>\n",
    "    3. square constraints                                       <br>\n",
    "    4. unicity contraints ($\\forall i,j, sum_k X_{k,i,j} = 1$)  (Ok!) <br>\n"
   ]
  },
  {
   "cell_type": "code",
   "execution_count": 13,
   "metadata": {},
   "outputs": [],
   "source": [
    "unicity = [X[0][i][j] + X[1][i][j] + X[2][i][j] + X[3][i][j] + X[4][i][j] + X[5][i][j] + X[6][i][j] + X[7][i][j] + X[8][i][j] == 1 \n",
    "        for i in range(9) for j in range(9) ]"
   ]
  },
  {
   "cell_type": "code",
   "execution_count": 19,
   "metadata": {},
   "outputs": [],
   "source": [
    "line = [X[k][i][0] +X[k][i][1] +X[k][i][2] +X[k][i][3] +X[k][i][4] +X[k][i][5] +X[k][i][6] +X[k][i][7] +X[k][i][8] ==1\n",
    "        for k in range(9) for i in range(9)]"
   ]
  },
  {
   "cell_type": "code",
   "execution_count": 18,
   "metadata": {},
   "outputs": [],
   "source": [
    "collumn = [ X[k][0][j] +X[k][1][j] +X[k][2][j] +X[k][3][j] +X[k][4][j] +X[k][5][j] +X[k][6][j] +X[k][7][j] +X[k][8][j] ==1\n",
    "            for k in range(9) for j in range(9)]"
   ]
  },
  {
   "cell_type": "markdown",
   "metadata": {},
   "source": [
    "##### About Square constraints:\n",
    "Defining the constraints on the squares is less trivial.\n",
    "We will define Square_ij a list of two vectors of size 3 that gives the indexes we want. \n",
    "For instance, Square_11 = [ [0,1,2] , [0,1,2] ; Square_32 = [ [6,7,8] , [3,4,5]]."
   ]
  },
  {
   "cell_type": "code",
   "execution_count": 29,
   "metadata": {},
   "outputs": [],
   "source": [
    "L1 = [0,1,2]\n",
    "L2 = [3,4,5]\n",
    "L3 = [6,7,8]\n",
    "\n",
    "def fill_square(Li, Lj):\n",
    "    \"\"\"\n",
    "    using Li and Lj, return a list of tuples corresponding to the coordinates of square s_ij.\n",
    "    \"\"\"\n",
    "    R = []\n",
    "    for xi in Li:\n",
    "        for xj in Lj:\n",
    "            R.append( (xi,xj) )\n",
    "    return R\n",
    "\n",
    "S11 = fill_square(L1, L1)\n",
    "S12 = fill_square(L1, L2)\n",
    "S13 = fill_square(L1, L3)\n",
    "S21 = fill_square(L2, L1)\n",
    "S22 = fill_square(L2, L2)\n",
    "S23 = fill_square(L2, L3)\n",
    "S31 = fill_square(L3, L1)\n",
    "S32 = fill_square(L3, L2)\n",
    "S33 = fill_square(L3, L3)\n",
    "#now i'm sure you are convinced i'm not good at python and you are aboslutely right.\n",
    "Square = [S11, S12, S13, S21, S22, S23, S31, S32, S33]"
   ]
  },
  {
   "cell_type": "code",
   "execution_count": 26,
   "metadata": {},
   "outputs": [
    {
     "name": "stdout",
     "output_type": "stream",
     "text": [
      "[(0, 0), (0, 1), (0, 2), (1, 0), (1, 1), (1, 2), (2, 0), (2, 1), (2, 2)]\n"
     ]
    }
   ],
   "source": []
  }
 ],
 "metadata": {
  "interpreter": {
   "hash": "e7370f93d1d0cde622a1f8e1c04877d8463912d04d973331ad4851f04de6915a"
  },
  "kernelspec": {
   "display_name": "Python 3.8.10 64-bit",
   "language": "python",
   "name": "python3"
  },
  "language_info": {
   "codemirror_mode": {
    "name": "ipython",
    "version": 3
   },
   "file_extension": ".py",
   "mimetype": "text/x-python",
   "name": "python",
   "nbconvert_exporter": "python",
   "pygments_lexer": "ipython3",
   "version": "3.8.10"
  },
  "orig_nbformat": 4
 },
 "nbformat": 4,
 "nbformat_minor": 2
}
