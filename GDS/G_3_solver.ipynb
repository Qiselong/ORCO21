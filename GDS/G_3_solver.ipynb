{
 "cells": [
  {
   "cell_type": "markdown",
   "source": [
    "#### Objective\n",
    "\n",
    "Model as an MIP the G_3 problem for any graph $G:= (V, E)$. Later on, using a solution and produces images for further exploitation."
   ],
   "metadata": {}
  },
  {
   "cell_type": "markdown",
   "source": [
    "#### Model\n",
    "\n",
    "Let $G$ be our graph, assumed to be connected. We want to find $G_3(G)$, that is: $$G_3(G):= \\min_C |C(G)|$$ where $C:= (C_i)$; <br>\n",
    "subject to:\n",
    "\n",
    "* $C_i \\subset V$,$|C_i| \\le 3$                         (1)\n",
    "* $\\forall uv \\in E, \\exists C_i st. u, v, \\in C_i$     (2)\n",
    "* $\\forall C_i, G[C_i]$ is complete.              (3)\n",
    "  "
   ],
   "metadata": {}
  },
  {
   "cell_type": "markdown",
   "source": [
    "#### $K_n$\n",
    "Assume $G$ is a complete graph. Then we can assume $C_i$ of an optimal solution are all triangles. <br>\n",
    "Let $C:= (c_{i,j})$ be our main decision variables. $i \\in [[1, \\lambda_k]], j \\in[[1, 3]]$. <br> \n",
    "Let $Y:= (y_i)$ be a binary decision vector corrsponding of the existence of $C_i$ in our solution. (4) <br>\n",
    "Let $M := (M_{i,j})_{i,j}$ be the adjacency matrix associated to $G$. <br>\n",
    "Let $\\Omega := (\\Omega_{i,j})_{i,j}$  be the matrix that associate the fact an edge exists in at least one c_i.\n",
    "##### Objective function\n",
    "$$\\min \\sum_i y_i$$\n",
    "\n",
    "##### Constraints 1-3\n",
    "* $\\forall i, c_{i, 1} \\le c_{i, 2} - 0.1 $ and $c_{i,2} \\le c_{i,3} - 0.1$ \n",
    "* $\\forall u, v \\in E$\n",
    "* $\\forall i, M_{c_{i,1}, c_{i,2}} \\ge y_i, ...$\n",
    "* "
   ],
   "metadata": {}
  }
 ],
 "metadata": {
  "orig_nbformat": 4,
  "language_info": {
   "name": "python"
  }
 },
 "nbformat": 4,
 "nbformat_minor": 2
}