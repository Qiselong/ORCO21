{
 "cells": [
  {
   "cell_type": "markdown",
   "source": [
    "### Problem: using an LP Solver with Python\n",
    "\n",
    "Solution: see tutorial @ https://realpython.com/linear-programming-python/#installing-scipy-and-pulp\n"
   ],
   "metadata": {}
  },
  {
   "cell_type": "code",
   "execution_count": 2,
   "source": [
    "### IMPORTS\n",
    "from scipy.optimize import linprog\n",
    "\n",
    "## say objective function is max z = x + 2y\n",
    "# is equivalent to min -z = -x -2y\n",
    "\n",
    "obj = [-1, -2]\n",
    "lhs_ineq = [[2, 1], [-4, 5], [1, -2]]\n",
    "rhs_ineq = [20, 10, 2]\n",
    "lhs_eq = [[-1, 5]]\n",
    "rhs_eq = [15]\n",
    "\n",
    "bnd = [(0, float('inf')), (0, float('inf'))]"
   ],
   "outputs": [],
   "metadata": {}
  },
  {
   "cell_type": "code",
   "execution_count": 3,
   "source": [
    "opt = linprog(c=obj, A_ub=lhs_ineq, b_ub=rhs_ineq,A_eq=lhs_eq, b_eq=rhs_eq, bounds=bnd,method=\"simplex\")"
   ],
   "outputs": [],
   "metadata": {}
  },
  {
   "cell_type": "code",
   "execution_count": 8,
   "source": [
    "print(\"obj.fun value: \", opt.fun)\n",
    "print(\"message: \", opt.message)\n",
    "print(\".con: \", opt.con)\n",
    "print(\"slack var.: \", opt.slack)\n",
    "## Dual shit: later"
   ],
   "outputs": [
    {
     "output_type": "stream",
     "name": "stdout",
     "text": [
      "obj.fun value:  -16.818181818181817\n",
      "message:  Optimization terminated successfully.\n",
      ".con:  [3.55271368e-15]\n",
      "slack var.:  [ 0.         18.18181818  3.36363636]\n"
     ]
    }
   ],
   "metadata": {}
  }
 ],
 "metadata": {
  "orig_nbformat": 4,
  "language_info": {
   "name": "python",
   "version": "3.8.10",
   "mimetype": "text/x-python",
   "codemirror_mode": {
    "name": "ipython",
    "version": 3
   },
   "pygments_lexer": "ipython3",
   "nbconvert_exporter": "python",
   "file_extension": ".py"
  },
  "kernelspec": {
   "name": "python3",
   "display_name": "Python 3.8.10 64-bit"
  },
  "interpreter": {
   "hash": "916dbcbb3f70747c44a77c7bcd40155683ae19c65e1c03b4aa3499c5328201f1"
  }
 },
 "nbformat": 4,
 "nbformat_minor": 2
}